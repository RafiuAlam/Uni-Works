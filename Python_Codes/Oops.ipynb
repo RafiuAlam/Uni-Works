{
  "nbformat": 4,
  "nbformat_minor": 0,
  "metadata": {
    "colab": {
      "provenance": []
    },
    "kernelspec": {
      "name": "python3",
      "display_name": "Python 3"
    },
    "language_info": {
      "name": "python"
    }
  },
  "cells": [
    {
      "cell_type": "code",
      "source": [
        "class mobile:\n",
        "\n",
        "  def __init__(self,camera,size):  # get called automatically when obj is created\n",
        "    self.color = 'white'\n",
        "    camera = camera\n",
        "    self.size = size\n",
        "    print(self.color,camera,self.size)\n",
        "\n",
        "\n",
        "  def display(self):\n",
        "\n",
        "    print(self.color,self.size)"
      ],
      "metadata": {
        "id": "1f2VRBvWr_j_"
      },
      "execution_count": 33,
      "outputs": []
    },
    {
      "cell_type": "code",
      "source": [
        "camera = int(input())\n",
        "size = int(input())\n",
        "phone = mobile(camera,size)\n",
        "# phone.features()\n",
        "phone.display()\n",
        "phone.size"
      ],
      "metadata": {
        "colab": {
          "base_uri": "https://localhost:8080/"
        },
        "id": "dZ4Mn8EhsU9K",
        "outputId": "9b404246-6cdd-493e-ab5f-3830821341fa"
      },
      "execution_count": 34,
      "outputs": [
        {
          "output_type": "stream",
          "name": "stdout",
          "text": [
            "48\n",
            "15\n",
            "white 48 15\n",
            "white 15\n"
          ]
        },
        {
          "output_type": "execute_result",
          "data": {
            "text/plain": [
              "15"
            ]
          },
          "metadata": {},
          "execution_count": 34
        }
      ]
    },
    {
      "cell_type": "code",
      "source": [
        "phone = mobile(camera,size)"
      ],
      "metadata": {
        "colab": {
          "base_uri": "https://localhost:8080/"
        },
        "id": "ulnPECs_saUV",
        "outputId": "9c341c4a-d7b2-4f79-f6df-c20046120b82"
      },
      "execution_count": 35,
      "outputs": [
        {
          "output_type": "stream",
          "name": "stdout",
          "text": [
            "white 48 15\n"
          ]
        }
      ]
    },
    {
      "cell_type": "code",
      "source": [
        "print(phone)"
      ],
      "metadata": {
        "colab": {
          "base_uri": "https://localhost:8080/"
        },
        "id": "2-6QsEhmv4q8",
        "outputId": "39ccba44-3dec-4e93-eb21-967a9a52053e"
      },
      "execution_count": 36,
      "outputs": [
        {
          "output_type": "stream",
          "name": "stdout",
          "text": [
            "<__main__.mobile object at 0x7befd01703a0>\n"
          ]
        }
      ]
    },
    {
      "cell_type": "code",
      "source": [
        "class phone:\n",
        "    def __init__(self,type):\n",
        "        self.type = type\n",
        "        self._color='black' # public\n",
        "        self.__camera = 48 # private , can be accessed only in the class\n",
        "        self.size = 15 # public\n",
        "        print(self.type,self._color,self.__camera,self.size)\n",
        "\n",
        "    def display(self):\n",
        "        print(self.color,self.size,self.__camera)\n",
        "\n",
        "class child(phone):\n",
        "  def display(self):\n",
        "    print(self.type,self._color,self.size)"
      ],
      "metadata": {
        "id": "3cQnkpgUv6eO"
      },
      "execution_count": 101,
      "outputs": []
    },
    {
      "cell_type": "code",
      "source": [
        "phone_obj = child('A')\n",
        "phone_obj.display()\n",
        "phone_obj._color"
      ],
      "metadata": {
        "colab": {
          "base_uri": "https://localhost:8080/",
          "height": 89
        },
        "id": "Tr22Jt-D8671",
        "outputId": "83ef5107-b14e-495b-bd7a-31df34b097f6"
      },
      "execution_count": 102,
      "outputs": [
        {
          "output_type": "stream",
          "name": "stdout",
          "text": [
            "A black 48 15\n",
            "A black 15\n"
          ]
        },
        {
          "output_type": "execute_result",
          "data": {
            "text/plain": [
              "'black'"
            ],
            "application/vnd.google.colaboratory.intrinsic+json": {
              "type": "string"
            }
          },
          "metadata": {},
          "execution_count": 102
        }
      ]
    },
    {
      "cell_type": "code",
      "source": [
        "phone_obj = phone('A')\n",
        "phone_obj.display()"
      ],
      "metadata": {
        "colab": {
          "base_uri": "https://localhost:8080/"
        },
        "id": "VzoBgR5kwwU1",
        "outputId": "f0891288-5ff4-4a55-ed95-3acce417cf06"
      },
      "execution_count": 40,
      "outputs": [
        {
          "output_type": "stream",
          "name": "stdout",
          "text": [
            "A black 48 15\n",
            "black 15\n"
          ]
        }
      ]
    },
    {
      "cell_type": "code",
      "source": [
        "print(phone)"
      ],
      "metadata": {
        "colab": {
          "base_uri": "https://localhost:8080/"
        },
        "id": "0GxyEN9Tw44t",
        "outputId": "b05cba00-2564-443d-ee67-159792fba54c"
      },
      "execution_count": 41,
      "outputs": [
        {
          "output_type": "stream",
          "name": "stdout",
          "text": [
            "<class '__main__.phone'>\n"
          ]
        }
      ]
    },
    {
      "cell_type": "code",
      "source": [
        "print(type(phone))"
      ],
      "metadata": {
        "colab": {
          "base_uri": "https://localhost:8080/"
        },
        "id": "fE1GZ2nHxUnl",
        "outputId": "c63a4174-f696-453f-a5a9-8615514ccf56"
      },
      "execution_count": 42,
      "outputs": [
        {
          "output_type": "stream",
          "name": "stdout",
          "text": [
            "<class 'type'>\n"
          ]
        }
      ]
    },
    {
      "cell_type": "code",
      "source": [
        "print(type(phone_obj))"
      ],
      "metadata": {
        "colab": {
          "base_uri": "https://localhost:8080/"
        },
        "id": "dVKkkwKExWmc",
        "outputId": "2f112a51-3134-47fb-a8b4-f027e337c808"
      },
      "execution_count": 43,
      "outputs": [
        {
          "output_type": "stream",
          "name": "stdout",
          "text": [
            "<class '__main__.phone'>\n"
          ]
        }
      ]
    },
    {
      "cell_type": "code",
      "source": [
        "class A:\n",
        "  def __init__(self):\n",
        "    self.age = 16\n",
        "\n",
        "\n",
        "class B(A):\n",
        "  def __init__(self):\n",
        "    self.name = 'abcd'\n",
        "    self.age = 20\n",
        "\n",
        "  def display(self):\n",
        "    print(self.age)\n",
        "\n",
        "class C(B,A):\n",
        "  def __init__(self):\n",
        "     A.__init__(self)\n",
        "     print('A',self.age)\n",
        "     B.__init__(self)\n",
        "     print('B',self.age,self.name)\n",
        "\n",
        "\n",
        "\n",
        "B_obj = C()\n",
        "B_obj.display()\n"
      ],
      "metadata": {
        "colab": {
          "base_uri": "https://localhost:8080/"
        },
        "id": "9AdDjGdCxbjC",
        "outputId": "1b3f7da7-0198-447b-ea55-3be8a3f2c790"
      },
      "execution_count": 67,
      "outputs": [
        {
          "output_type": "stream",
          "name": "stdout",
          "text": [
            "A 16\n",
            "B 20 abcd\n",
            "20\n"
          ]
        }
      ]
    },
    {
      "cell_type": "code",
      "source": [],
      "metadata": {
        "id": "noFYDXyMzRdx"
      },
      "execution_count": null,
      "outputs": []
    },
    {
      "cell_type": "code",
      "source": [],
      "metadata": {
        "id": "eJ5G_HaFzRf_"
      },
      "execution_count": null,
      "outputs": []
    },
    {
      "cell_type": "code",
      "source": [
        "\n",
        "from abc import ABC, abstractmethod\n",
        "\n",
        "class a:\n",
        "    def __init__(self):\n",
        "        self.name='Nasim'\n",
        "        self.age=75\n",
        "\n",
        "class b:\n",
        "    def display(self):\n",
        "        print(self.name)\n",
        "\n",
        "class c(a,b):\n",
        "    def __init__(self):\n",
        "        a.__init__(self)\n",
        "\n",
        "    def display(self):\n",
        "        print(self.name,self.age)\n",
        "        b.display(self)\n",
        "\n",
        "obj_c = c()\n",
        "obj_c.display()"
      ],
      "metadata": {
        "colab": {
          "base_uri": "https://localhost:8080/"
        },
        "id": "f9zlSnRCzRh7",
        "outputId": "f233bb4c-1b96-4127-ce1c-3796fbbc45e4"
      },
      "execution_count": 71,
      "outputs": [
        {
          "output_type": "stream",
          "name": "stdout",
          "text": [
            "Nasim 75\n",
            "Nasim\n"
          ]
        }
      ]
    },
    {
      "cell_type": "code",
      "source": [
        "from abc import ABC, abstractmethod\n",
        "\n",
        "class abs_class(ABC):\n",
        "  @abstractmethod\n",
        "  def abd_method(self):\n",
        "    print('I am abstract')\n",
        "\n",
        "class child(abs_class):\n",
        "  def abd_method(self):\n",
        "    super().abd_method()\n",
        "    print('I am child class')\n",
        "\n",
        "  def display(self):\n",
        "    super().abd_method()\n",
        "    print('Helllo')\n",
        "\n",
        "OBJ = child()\n",
        "OBJ.abd_method()\n",
        "OBJ.display()"
      ],
      "metadata": {
        "colab": {
          "base_uri": "https://localhost:8080/"
        },
        "id": "5IklYEwU5tOe",
        "outputId": "09e11ca4-3669-47c0-8e79-21719d19a772"
      },
      "execution_count": 83,
      "outputs": [
        {
          "output_type": "stream",
          "name": "stdout",
          "text": [
            "I am abstract\n",
            "I am child class\n",
            "I am abstract\n",
            "Helllo\n"
          ]
        }
      ]
    },
    {
      "cell_type": "code",
      "source": [],
      "metadata": {
        "id": "uCkHqUBf6Sfl"
      },
      "execution_count": null,
      "outputs": []
    }
  ]
}